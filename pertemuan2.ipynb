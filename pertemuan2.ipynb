{
  "nbformat": 4,
  "nbformat_minor": 0,
  "metadata": {
    "colab": {
      "provenance": [],
      "authorship_tag": "ABX9TyOOaYajmvhHK177ERRAsTqV",
      "include_colab_link": true
    },
    "kernelspec": {
      "name": "python3",
      "display_name": "Python 3"
    },
    "language_info": {
      "name": "python"
    }
  },
  "cells": [
    {
      "cell_type": "markdown",
      "metadata": {
        "id": "view-in-github",
        "colab_type": "text"
      },
      "source": [
        "<a href=\"https://colab.research.google.com/github/elysiakaniyanorty/pertemuan2/blob/main/pertemuan2.ipynb\" target=\"_parent\"><img src=\"https://colab.research.google.com/assets/colab-badge.svg\" alt=\"Open In Colab\"/></a>"
      ]
    },
    {
      "cell_type": "code",
      "execution_count": null,
      "metadata": {
        "id": "DCPGo0MEDCwG"
      },
      "outputs": [],
      "source": []
    },
    {
      "cell_type": "markdown",
      "source": [
        "kelompok 3"
      ],
      "metadata": {
        "id": "bmpXNm3RDQnz"
      }
    },
    {
      "cell_type": "code",
      "source": [
        "nomor_acak = [10, 8, 3, 22, 33, 7, 11, 100, 54]\n",
        "nomor_acak.sort()\n",
        "print(nomor_acak)"
      ],
      "metadata": {
        "colab": {
          "base_uri": "https://localhost:8080/"
        },
        "id": "J4w53cPUDT58",
        "outputId": "b13f098f-4dcf-4c07-a11b-2ca39602ffc8"
      },
      "execution_count": 1,
      "outputs": [
        {
          "output_type": "stream",
          "name": "stdout",
          "text": [
            "[3, 7, 8, 10, 11, 22, 33, 54, 100]\n"
          ]
        }
      ]
    }
  ]
}